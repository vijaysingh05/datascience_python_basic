{
 "cells": [
  {
   "cell_type": "markdown",
   "metadata": {},
   "source": [
    "# Python Assignment - 3 (Lists)"
   ]
  },
  {
   "cell_type": "markdown",
   "metadata": {},
   "source": [
    "# Question 1\n",
    "\n",
    "City = [‘Gurgaon’, ’Mumbai’, ’Bangalore’]\n",
    "        \n",
    "        i) Print the second item from the list.\n",
    "        ii) Change the value from \"Gurgaon\" to \"Kerala\"\n",
    "        iii) Remove the last element of the list.\n",
    "\n",
    "# Below are the answer of question 1:"
   ]
  },
  {
   "cell_type": "code",
   "execution_count": 1,
   "metadata": {},
   "outputs": [
    {
     "name": "stdout",
     "output_type": "stream",
     "text": [
      "Values of list assigned r :- ['Gurgaon', 'Mumbai', 'Banglore']\n",
      "\n",
      "i) As per list 2nd value is : Mumbai\n",
      "\n",
      "ii)After changing the value of city[0] r :- ['Kerala', 'Mumbai', 'Banglore']\n",
      "\n",
      "iii) Method-1 Result after removing last value:- ['Kerala', 'Mumbai']\n",
      "\n",
      "iii) Method-2 Result after removing last value:- ['Kerala']\n"
     ]
    }
   ],
   "source": [
    "city = ['Gurgaon','Mumbai','Banglore']              # Created a varible as list and assigne the values.\n",
    "print(\"Values of list assigned r :-\", city)         # Printing the elements from the list.\n",
    "\n",
    "#  i) Print the second item from the list.\n",
    "print(\"\\ni) As per list 2nd value is :\", city[1])   # Printing the second element from the list.\n",
    "\n",
    "#  ii) Change the value from \"Gurgaon\" to \"Kerala\"\n",
    "city[0] = 'Kerala'                                  # Changing the value from \"Gurgaon\" to \"Kerala\"\n",
    "print(\"\\nii)After changing the value of city[0] r :-\",city) #Printing the values of list after replacing \"Kerala\" with \"Gurgaon\"\n",
    "\n",
    "#  iii) Remove the last element of the list.\n",
    "# Method -1                                         # Removing the last element from the list which have 3 elements.\n",
    "city.pop(2)                              \n",
    "print(\"\\niii) Method-1 Result after removing last value:-\",city)\n",
    "\n",
    "# Method -2                                         # Removing the last element from the list which have 'n' elements.\n",
    "city.pop() \n",
    "print(\"\\niii) Method-2 Result after removing last value:-\",city)#Printing the rest elements of list after removing last element"
   ]
  },
  {
   "cell_type": "markdown",
   "metadata": {},
   "source": [
    "# Question 2\n",
    "\n",
    "    Use negative indexing to print the last item in the list. Make a list by yourself.\n",
    "\n",
    "# Below is the answer of question 2:"
   ]
  },
  {
   "cell_type": "code",
   "execution_count": 2,
   "metadata": {},
   "outputs": [
    {
     "name": "stdout",
     "output_type": "stream",
     "text": [
      "Values of list assigned r :- ['Gurgaon', 'Mumbai', 'Banglore', 'Hyderabad', 'Delhi']\n",
      "\n",
      "Last value of the list is :  Delhi\n"
     ]
    }
   ],
   "source": [
    "city_list = ['Gurgaon','Mumbai','Banglore',\"Hyderabad\",\"Delhi\"]   # Created a varible as list and assigne the values.\n",
    "print(\"Values of list assigned r :-\", city_list)                  # Printing the elements from the list.\n",
    "print(\"\\nLast value of the list is : \",city_list[-1])               # Printing Last item from list using negative indexing."
   ]
  },
  {
   "cell_type": "markdown",
   "metadata": {},
   "source": [
    "# Question 3\n",
    "\n",
    "    Use a range of indexes to print the third, fourth, and fifth item in the list. Make a list by yourself.\n",
    "\n",
    "# Below is the answer of question 3:"
   ]
  },
  {
   "cell_type": "code",
   "execution_count": 3,
   "metadata": {},
   "outputs": [
    {
     "name": "stdout",
     "output_type": "stream",
     "text": [
      "Method-1 for Printing 3rd, 4th, and 5th item :- ['Banglore', 'Hyderabad', 'Delhi']\n",
      "\n",
      "Method-2 for Printing 3rd, 4th, and 5th item :- ['Banglore', 'Hyderabad', 'Delhi']\n"
     ]
    }
   ],
   "source": [
    "city_list = ['Gurgaon','Mumbai','Banglore',\"Hyderabad\",\"Delhi\"] # Created a varible as list and assigne the values.\n",
    "\n",
    "#Mathod - 1                                                     # Printing 3rd, 4th, and 5th item from list using index range.\n",
    "print(\"Method-1 for Printing 3rd, 4th, and 5th item :-\", city_list[2:])                                            \n",
    "\n",
    "#Mathod - 2                                                     # Printing 3rd, 4th, and 5th item from list using index range.\n",
    "print(\"\\nMethod-2 for Printing 3rd, 4th, and 5th item :-\", city_list[2:5])"
   ]
  },
  {
   "cell_type": "markdown",
   "metadata": {},
   "source": [
    "# Question 4\n",
    "\n",
    "    Remove the last element from the city list.\n",
    "\n",
    "# Below is the answer of question 4:"
   ]
  },
  {
   "cell_type": "code",
   "execution_count": 4,
   "metadata": {},
   "outputs": [
    {
     "name": "stdout",
     "output_type": "stream",
     "text": [
      "Method-1 Rest values from list is :- ['Gurgaon', 'Mumbai']\n",
      "\n",
      "Method-2 Rest values from list is :- ['Gurgaon', 'Mumbai']\n"
     ]
    }
   ],
   "source": [
    "# Method -1    --------------------# Removing the last element from the list which have 'n' elements.----------------------\n",
    "city = ['Gurgaon','Mumbai','Banglore']              # Created a varible as list and assigne the values.\n",
    "city.pop() \n",
    "print(\"Method-1 Rest values from list is :-\",city)  # Printing the rest elements from the list after removing last element.\n",
    "\n",
    "# Method -2    -------------------- # Removing the last element from the list which have 3 elements.-----------------------\n",
    "city = ['Gurgaon','Mumbai','Banglore']              # Created a varible as list and assigne the values.\n",
    "city.pop(2)                              \n",
    "print(\"\\nMethod-2 Rest values from list is :-\",city)  # Printing the rest elements from the list after removing last element."
   ]
  },
  {
   "cell_type": "markdown",
   "metadata": {},
   "source": [
    "# Question 5\n",
    "\n",
    "    fruits=[‘apple’,’lichi’,’guava’,’cherry’,’mango’,’watermelon’,’banana’]\n",
    "         \n",
    "         i) Add \"orange\" at the end of the above list.\n",
    "        ii) Add \"lemon\" as the second item in the fruits  list\n",
    "\n",
    "# Below is the answer of question 5:"
   ]
  },
  {
   "cell_type": "code",
   "execution_count": 5,
   "metadata": {},
   "outputs": [
    {
     "name": "stdout",
     "output_type": "stream",
     "text": [
      "Values of list assigned r :- ['apple', 'lichi', 'guava', 'cherry', 'mango', 'watermelon', 'banana']\n",
      "\n",
      "i) Values after using append():- ['apple', 'lichi', 'guava', 'cherry', 'mango', 'watermelon', 'banana', 'orange']\n",
      "\n",
      "ii) Values after using insert():- ['apple', 'lemon', 'lichi', 'guava', 'cherry', 'mango', 'watermelon', 'banana', 'orange']\n"
     ]
    }
   ],
   "source": [
    "fruits=['apple','lichi','guava','cherry','mango','watermelon','banana'] # Creating a varible as list and assigne the values.\n",
    "print(\"Values of list assigned r :-\", fruits)                           # Printing the elements from the list. \n",
    "\n",
    "#  i) Add \"orange\" at the end of the above list.\n",
    "fruits.append('orange')                                                 # Adding one more elements in last into the list.\n",
    "print(\"\\ni) Values after using append():-\", fruits)                     # Printing the elements from the list after adding item.\n",
    "\n",
    "#  ii) Add \"lemon\" as the second item in the fruits  list\n",
    "fruits.insert(1,'lemon')                                                # Adding Item at 2nd position in the list.\n",
    "print(\"\\nii) Values after using insert():-\", fruits)                    # Printing list after adding item @ 2nd position in list"
   ]
  },
  {
   "cell_type": "markdown",
   "metadata": {},
   "source": [
    "# Question 6\n",
    "\n",
    "    Remove ‘cherry’ from the fruit list given above.\n",
    "\n",
    "# Below is the answer of question 6:"
   ]
  },
  {
   "cell_type": "code",
   "execution_count": 6,
   "metadata": {},
   "outputs": [
    {
     "name": "stdout",
     "output_type": "stream",
     "text": [
      "Values of list assigned are:- ['apple', 'lichi', 'guava', 'cherry', 'mango', 'watermelon', 'banana']\n",
      "\n",
      "Values after using remove():- ['apple', 'lichi', 'guava', 'mango', 'watermelon', 'banana']\n"
     ]
    }
   ],
   "source": [
    "fruits=['apple','lichi','guava','cherry','mango','watermelon','banana'] # Creating a varible as list and assigne the values.\n",
    "print(\"Values of list assigned are:-\", fruits)                           # Printing the elements from the list.\n",
    "fruits.remove('cherry')                                                 # Removing 'cherry' from the list.\n",
    "print(\"\\nValues after using remove():-\", fruits)                        # Printing list elements after removing 'cherry'."
   ]
  },
  {
   "cell_type": "markdown",
   "metadata": {},
   "source": [
    "# Question 7\n",
    "\n",
    "    Write the python program to let the user input a list of numbers and print the list in descending order.\n",
    "\n",
    "# Below is the answer of question 7:"
   ]
  },
  {
   "cell_type": "code",
   "execution_count": 7,
   "metadata": {},
   "outputs": [
    {
     "name": "stdout",
     "output_type": "stream",
     "text": [
      "Method -1 Enter a list elements separated by space : 1 2 3 9 4 6 8 5\n",
      "Input list by user is  ['1', '2', '3', '9', '4', '6', '8', '5']\n",
      "\n",
      "Descending order based on Input list by user is  ['9', '8', '6', '5', '4', '3', '2', '1']\n",
      "Method -2 Enter a list elements without space : 12309748\n",
      "\n",
      "Input list by user is :- ['1', '2', '3', '0', '9', '7', '4', '8']\n",
      "\n",
      "Descending order based on Input list by user is :-  ['9', '8', '7', '4', '3', '2', '1', '0']\n"
     ]
    }
   ],
   "source": [
    "#Method - 1      ---------------------Get input as string at run time & convert into list with split()-------------------\n",
    "input_string = input(\"Method -1 Enter a list elements separated by space : \")\n",
    "userList = input_string.split()\n",
    "print(\"Input list by user is \", userList)\n",
    "userList.sort(reverse=True)\n",
    "print(\"\\nDescending order based on Input list by user is \", userList)\n",
    "\n",
    "#Method - 2           ---------------------Get input as list with the help og list() at runtime-----------------------\n",
    "userList1 = list(input(\"Method -2 Enter a list elements without space : \"))\n",
    "print(\"\\nInput list by user is :-\", userList1)\n",
    "userList1.sort(reverse=True)\n",
    "print(\"\\nDescending order based on Input list by user is :- \", userList1)"
   ]
  },
  {
   "cell_type": "markdown",
   "metadata": {},
   "source": [
    "# Question 8\n",
    "\n",
    "    Write the python program to let the user input two lists and combine both the lists.\n",
    "\n",
    "# Below is the answer of question 8:"
   ]
  },
  {
   "cell_type": "code",
   "execution_count": 8,
   "metadata": {},
   "outputs": [
    {
     "name": "stdout",
     "output_type": "stream",
     "text": [
      "Enter the values for list 1 wihtout space: vijay\n",
      "Enter the values for list 2 wihtout space: 124573ajay\n",
      "\n",
      "Method -1, Adding two lists with help of arithmetic operator ('+') : ['v', 'i', 'j', 'a', 'y', '1', '2', '4', '5', '7', '3', 'a', 'j', 'a', 'y']\n",
      "\n",
      "Method -2, Adding two lists with help of expend() function : ['v', 'i', 'j', 'a', 'y', '1', '2', '4', '5', '7', '3', 'a', 'j', 'a', 'y']\n"
     ]
    }
   ],
   "source": [
    "list1 = list(input(\"Enter the values for list 1 wihtout space: \"))  # Creating a varible 'list1' as list and assigne the values.\n",
    "list2 = list(input(\"Enter the values for list 2 wihtout space: \"))  # Creating a varible 'list2' as list and assigne the values.\n",
    "\n",
    "#Method - 1       -----------------------Adding two lists with help of arithmetic operator ('+') ---------------------------\n",
    "list3 = list1 + list2\n",
    "print(\"\\nMethod -1, Adding two lists with help of arithmetic operator ('+') :\",list3)\n",
    "\n",
    "#Method - 2       ---------------------------- Adding two lists with help of expend() function---------------------------\n",
    "list1.extend(list2)\n",
    "print(\"\\nMethod -2, Adding two lists with help of expend() function :\",list1)"
   ]
  },
  {
   "cell_type": "markdown",
   "metadata": {},
   "source": [
    "# Question 9\n",
    "\n",
    "    List = [10, 45, 78, 11, 9, 23]. Shuffle this list.\n",
    "\n",
    "# Below is the answer of question 9:"
   ]
  },
  {
   "cell_type": "code",
   "execution_count": 9,
   "metadata": {},
   "outputs": [
    {
     "name": "stdout",
     "output_type": "stream",
     "text": [
      "Default numbers of list is:-  [10, 45, 78, 11, 9, 23]\n",
      "\n",
      "Method 1 - Shuffled List based on above list is(will b change at every run):- [23, 10, 11, 9, 45, 78]\n",
      "\n",
      "Method 2 - Shuffled List based on above list is(same list will be display at every run):-  [11, 78, 10, 9, 23, 45]\n"
     ]
    }
   ],
   "source": [
    "import random    # -----------------------Importing the function random() from library--------------------------\n",
    "List = [10,45,78,11,9,23]\n",
    "print(\"Default numbers of list is:- \", List)\n",
    "\n",
    "#Method  -  1    # ------------------Everytime a new random shuffled list on every run, based on above list------------------\n",
    "random.shuffle(List)\n",
    "print(\"\\nMethod 1 - Shuffled List based on above list is(will b change at every run):-\", List)\n",
    "\n",
    "#Method  -  2    # ------------------Everytime same random shuffled list on every run, based on above list------------------\n",
    "random.seed(6)\n",
    "random.shuffle(List)\n",
    "print(\"\\nMethod 2 - Shuffled List based on above list is(same list will be display at every run):- \", List)"
   ]
  },
  {
   "cell_type": "markdown",
   "metadata": {},
   "source": [
    "# Question 10\n",
    "\n",
    "    x = [10, [3.141, 20, [30, 'baz', 2.718]], 'foo'] \n",
    "    \n",
    "        i) What is the expression that returns the 'z' in 'baz'?\n",
    "        ii)  What expression returns the list ['baz', 2.718]?\n",
    "\n",
    "# Below is the answer of question 10:"
   ]
  },
  {
   "cell_type": "code",
   "execution_count": 10,
   "metadata": {},
   "outputs": [
    {
     "name": "stdout",
     "output_type": "stream",
     "text": [
      "The values of list are : [10, [3.141, 20, [30, 'baz', 2.718]], 'foo']\n",
      "\n",
      " i) Expression 'x[1][2][1][2]' will returns is:- z\n",
      "\n",
      "ii) Expression 'x[1][2][1::1]' will returns is:- ['baz', 2.718]\n"
     ]
    }
   ],
   "source": [
    "x = [10, [3.141, 20, [30, 'baz', 2.718]], 'foo']                        # Creating a varible 'x' as list and assigne the values.\n",
    "print(\"The values of list are :\", x)                                    # Checking the values of list 'x'.\n",
    "\n",
    "# i)  Expression that returns the 'z' in 'baz'\n",
    "print(\"\\n i) Expression 'x[1][2][1][2]' will returns is:-\", x[1][2][1][2])\n",
    "\n",
    "# ii) Expression returns the list ['baz', 2.718]\n",
    "print(\"\\nii) Expression 'x[1][2][1::1]' will returns is:-\", x[1][2][1::1])"
   ]
  },
  {
   "cell_type": "markdown",
   "metadata": {},
   "source": [
    "# Question 11\n",
    "\n",
    "    Extract element 20 from the above list.\n",
    "\n",
    "# Below is the answer of question 11:"
   ]
  },
  {
   "cell_type": "code",
   "execution_count": 11,
   "metadata": {},
   "outputs": [
    {
     "name": "stdout",
     "output_type": "stream",
     "text": [
      "Values of list before extraction is:- [10, [3.141, 20, [30, 'baz', 2.718]], 'foo']\n",
      "\n",
      "Value extracted from the list is:-    20\n",
      "\n",
      "Values of list after extraction is:-  [10, [3.141, [30, 'baz', 2.718]], 'foo']\n"
     ]
    }
   ],
   "source": [
    "x = [10, [3.141, 20, [30, 'baz', 2.718]], 'foo']        # Creating a varible 'x' as list and assigne the values.\n",
    "print(\"Values of list before extraction is:-\", x)       # Printing the values from the list.\n",
    "y = x[1].pop(1)                                         # Extract value '20' from teh list using pop().\n",
    "print(\"\\nValue extracted from the list is:-   \", y)        # Printing the extracted value from the list.\n",
    "print(\"\\nValues of list after extraction is:- \", x)      # Printing the rest of values from the list after extration."
   ]
  },
  {
   "cell_type": "markdown",
   "metadata": {},
   "source": [
    "# Question 12\n",
    "\n",
    "    You have a list a = [1, 2, 7, 8]\n",
    "    \n",
    "        Write a Python statement using slice assignment that will fill in the missing values \n",
    "        so that a equals [1, 2, 3, 4, 5, 6, 7, 8]\n",
    "\n",
    "# Below is the answer of question 12:"
   ]
  },
  {
   "cell_type": "code",
   "execution_count": 12,
   "metadata": {},
   "outputs": [
    {
     "name": "stdout",
     "output_type": "stream",
     "text": [
      "Values of list assigned r :- [1, 2, 7, 8]\n",
      "\n",
      "Values after changing position & assgning some new values are :- [1, 2, 3, 4, 5, 6, 7, 8]\n"
     ]
    }
   ],
   "source": [
    "a = [1, 2, 7, 8]                                        # Creating a varible 'a' as list and assigne the values as 1,2,7,8.\n",
    "print(\"Values of list assigned r :-\", a)                # Printing the values from the list.\n",
    "a[2:1] = [3,4,5,6]      # Assigning values as 3,4,5,6 in variable a at 2nd position to 5th position using slicing assignment.\n",
    "print(\"\\nValues after changing position & assgning some new values are :-\",a)\n",
    "                                                        # Printing the values of 'a' after assigning the values by slicing."
   ]
  }
 ],
 "metadata": {
  "kernelspec": {
   "display_name": "Python 3",
   "language": "python",
   "name": "python3"
  },
  "language_info": {
   "codemirror_mode": {
    "name": "ipython",
    "version": 3
   },
   "file_extension": ".py",
   "mimetype": "text/x-python",
   "name": "python",
   "nbconvert_exporter": "python",
   "pygments_lexer": "ipython3",
   "version": "3.8.3"
  }
 },
 "nbformat": 4,
 "nbformat_minor": 4
}
