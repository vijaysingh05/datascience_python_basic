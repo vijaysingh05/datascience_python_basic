{
 "cells": [
  {
   "cell_type": "markdown",
   "metadata": {},
   "source": [
    "# Python Assignment - 4 (Dictionary)"
   ]
  },
  {
   "cell_type": "markdown",
   "metadata": {},
   "source": [
    "# Question 1\n",
    "    Print the value of the \"model\" key of the car dictionary. \n",
    "        Given a dictionary: car = {\"brand\": \"Ford\", \"model\":\"Mustang\",\"year\":1964} \n",
    "# Below are the answer of question 1:"
   ]
  },
  {
   "cell_type": "code",
   "execution_count": 1,
   "metadata": {},
   "outputs": [
    {
     "name": "stdout",
     "output_type": "stream",
     "text": [
      "Mustang\n"
     ]
    }
   ],
   "source": [
    "car = {\"brand\": \"Ford\", \"model\" : \"Mustang\", \"year\" : 1964}\n",
    "print(car[\"model\"])"
   ]
  },
  {
   "cell_type": "markdown",
   "metadata": {},
   "source": [
    "# Question 2\n",
    "    Change the \"year\" value from 1964 to 2020.\n",
    "        Given a dictionary: car = {\"brand\": \"Ford\", \"model\":\"Mustang\",\"year\":1964}\n",
    "# Below are the answer of question 2:"
   ]
  },
  {
   "cell_type": "code",
   "execution_count": 2,
   "metadata": {},
   "outputs": [
    {
     "name": "stdout",
     "output_type": "stream",
     "text": [
      "{'brand': 'Ford', 'model': 'Mustang', 'year': 1964}\n",
      "{'brand': 'Ford', 'model': 'Mustang', 'year': 2020}\n"
     ]
    }
   ],
   "source": [
    "car = {\"brand\": \"Ford\", \"model\" : \"Mustang\", \"year\" : 1964}\n",
    "print(car)\n",
    "car.update({\"year\" : 2020})\n",
    "print(car)"
   ]
  },
  {
   "cell_type": "markdown",
   "metadata": {},
   "source": [
    "# Question 3\n",
    "    Add the key/value pair \"colour”: \"red\" to the car dictionary\n",
    "        Given a dictionary: car = {\"brand\": \"Ford\", \"model\":\"Mustang\",\"year\":1964}\n",
    "# Below are the answer of question 3:"
   ]
  },
  {
   "cell_type": "code",
   "execution_count": 3,
   "metadata": {},
   "outputs": [
    {
     "name": "stdout",
     "output_type": "stream",
     "text": [
      "{'brand': 'Ford', 'model': 'Mustang', 'year': 1964}\n",
      "{'brand': 'Ford', 'model': 'Mustang', 'year': 1964, 'colour': 'red'}\n"
     ]
    }
   ],
   "source": [
    "car = {\"brand\": \"Ford\", \"model\" : \"Mustang\", \"year\" : 1964}\n",
    "print(car)\n",
    "car.update({\"colour\" : \"red\"})\n",
    "print(car)"
   ]
  },
  {
   "cell_type": "markdown",
   "metadata": {},
   "source": [
    "# Question 4\n",
    "    Add a key to inventory called 'pocket' and Set the value of 'pocket' to be a list consisting of the strings 'seashell','strange berry', and 'lint'. \n",
    "        Given a dictionary : inventory = {'gold' : 500, 'pouch' : ['flint', 'twine', 'gemstone'], 'backpack' : ['xylophone', 'dagger', 'bedroll', 'bread', 'loaf']}\n",
    "\n",
    "# Below are the answer of question 4:"
   ]
  },
  {
   "cell_type": "code",
   "execution_count": 4,
   "metadata": {},
   "outputs": [
    {
     "name": "stdout",
     "output_type": "stream",
     "text": [
      "{'gold': 500, 'pouch': ['flint', 'twine', 'gemstone'], 'backpack': ['xylophone', 'dagger', 'bedroll', 'bread', 'loaf']}\n",
      "{'gold': 500, 'pouch': ['flint', 'twine', 'gemstone'], 'backpack': ['xylophone', 'dagger', 'bedroll', 'bread', 'loaf'], 'pocket': ['seashell', 'strange berry', 'lint']}\n"
     ]
    }
   ],
   "source": [
    "inventory = {'gold' : 500, 'pouch' : ['flint', 'twine', 'gemstone'], 'backpack' : ['xylophone', 'dagger', 'bedroll', 'bread', 'loaf']}\n",
    "print(inventory)\n",
    "inventory.update({\"pocket\" : ['seashell','strange berry','lint']})\n",
    "print(inventory)"
   ]
  },
  {
   "cell_type": "markdown",
   "metadata": {},
   "source": [
    "# Question 5\n",
    "\n",
    "    Sort the items in the list stored under the 'backpack' key. \n",
    "Given a dictionary : inventory = {'gold' : 500, 'pouch' : ['flint', 'twine', 'gemstone'], 'backpack' : ['xylophone', 'dagger', 'bedroll', 'bread', 'loaf']}\n",
    "# Below are the answer of question 5:"
   ]
  },
  {
   "cell_type": "code",
   "execution_count": 5,
   "metadata": {},
   "outputs": [
    {
     "name": "stdout",
     "output_type": "stream",
     "text": [
      "{'gold': 500, 'pouch': ['flint', 'twine', 'gemstone'], 'backpack': ['xylophone', 'dagger', 'bedroll', 'bread', 'loaf']}\n",
      "{'gold': 500, 'pouch': ['flint', 'twine', 'gemstone'], 'backpack': ['bedroll', 'bread', 'dagger', 'loaf', 'xylophone']}\n"
     ]
    }
   ],
   "source": [
    "inventory = {'gold' : 500, 'pouch' : ['flint', 'twine', 'gemstone'], 'backpack' : ['xylophone', 'dagger', 'bedroll', 'bread', 'loaf']}\n",
    "print(inventory)\n",
    "inventory[\"backpack\"].sort()\n",
    "print(inventory)"
   ]
  },
  {
   "cell_type": "markdown",
   "metadata": {},
   "source": [
    "# Question 6\n",
    "Remove 'dagger' from the list of items stored under the 'backpack' key.\n",
    "\n",
    "Given a dictionary : inventory = {'gold' : 500, 'pouch' : ['flint', 'twine', 'gemstone'], 'backpack' : ['xylophone', 'dagger', 'bedroll', 'bread', 'loaf']}\n",
    "# Below are the answer of question 6:"
   ]
  },
  {
   "cell_type": "code",
   "execution_count": 6,
   "metadata": {},
   "outputs": [
    {
     "name": "stdout",
     "output_type": "stream",
     "text": [
      "{'gold': 500, 'pouch': ['flint', 'twine', 'gemstone'], 'backpack': ['xylophone', 'dagger', 'bedroll', 'bread', 'loaf']}\n",
      "{'gold': 500, 'pouch': ['flint', 'twine', 'gemstone'], 'backpack': ['xylophone', 'bedroll', 'bread', 'loaf']}\n"
     ]
    }
   ],
   "source": [
    "inventory = {'gold' : 500, 'pouch' : ['flint', 'twine', 'gemstone'], 'backpack' : ['xylophone', 'dagger', 'bedroll', 'bread', 'loaf']}\n",
    "print(inventory)\n",
    "inventory['backpack'].remove('dagger')\n",
    "print(inventory)"
   ]
  },
  {
   "cell_type": "markdown",
   "metadata": {},
   "source": [
    "# Question 7\n",
    "Add 50 to the number stored under the 'gold' key. \n",
    "\n",
    "Given a dictionary : inventory = {'gold' : 500, 'pouch' : ['flint', 'twine', 'gemstone'], 'backpack' : ['xylophone’, ‘dagger', 'bedroll’, ‘bread’, ‘loaf']}\n",
    "# Below are the answer of question 7:"
   ]
  },
  {
   "cell_type": "code",
   "execution_count": 7,
   "metadata": {},
   "outputs": [
    {
     "name": "stdout",
     "output_type": "stream",
     "text": [
      "{'gold': 500, 'pouch': ['flint', 'twine', 'gemstone'], 'backpack': ['xylophone', 'dagger', 'bedroll', 'bread', 'loaf']}\n",
      "{'gold': 550, 'pouch': ['flint', 'twine', 'gemstone'], 'backpack': ['xylophone', 'dagger', 'bedroll', 'bread', 'loaf']}\n"
     ]
    }
   ],
   "source": [
    "inventory = {'gold' : 500, 'pouch' : ['flint', 'twine', 'gemstone'], 'backpack' : ['xylophone', 'dagger', 'bedroll', 'bread', 'loaf']}\n",
    "print(inventory)\n",
    "inventory['gold']=inventory['gold']+50\n",
    "print(inventory)"
   ]
  },
  {
   "cell_type": "markdown",
   "metadata": {},
   "source": [
    "# Question 8\n",
    "\n",
    "Write a Python script to concatenate three dictionaries to create a new one. Make dictionaries yourself.\n",
    "# Below are the answer of question 8:"
   ]
  },
  {
   "cell_type": "code",
   "execution_count": 8,
   "metadata": {},
   "outputs": [
    {
     "name": "stdout",
     "output_type": "stream",
     "text": [
      "Result of Method - 1 :- ({1: 'red', 2: 'green'}, {3: 'yellow', 4: 'blue'}, {6: 'orange', 8: 'black'})\n",
      "\n",
      "Result of Method - 2 :- {1: 'red', 2: 'green', 3: 'yellow', 4: 'blue', 6: 'orange', 8: 'black'}\n",
      "\n",
      "Result of Method - 3 :- {1: 'red', 2: 'green', 3: 'yellow', 4: 'blue', 6: 'orange', 8: 'black'}\n"
     ]
    }
   ],
   "source": [
    "#Method - 1\n",
    "dic1 = {1:\"red\", 2:\"green\"}\n",
    "dic2 = {3:\"yellow\", 4:\"blue\"}\n",
    "dic3 = {6:\"orange\", 8:\"black\"}\n",
    "dic4 = {}\n",
    "dic4 = dic1, dic2, dic3\n",
    "print(\"Result of Method - 1 :-\",dic4)\n",
    "\n",
    "#Method - 2\n",
    "dic1 = {1:\"red\", 2:\"green\"}\n",
    "dic2 = {3:\"yellow\", 4:\"blue\"}\n",
    "dic3 = {6:\"orange\", 8:\"black\"}\n",
    "dic4 = {}\n",
    "dic4.update(dic1)\n",
    "dic4.update(dic2)\n",
    "dic4.update(dic3)\n",
    "print(\"\\nResult of Method - 2 :-\",dic4)\n",
    "\n",
    "#Method - 3\n",
    "dic1 = {1:\"red\", 2:\"green\"}\n",
    "dic2 = {3:\"yellow\", 4:\"blue\"}\n",
    "dic3 = {6:\"orange\", 8:\"black\"}\n",
    "dic4 = {}\n",
    "for x in (dic1, dic2, dic3): dic4.update(x)\n",
    "print(\"\\nResult of Method - 3 :-\",dic4)"
   ]
  },
  {
   "cell_type": "markdown",
   "metadata": {},
   "source": [
    "# Question 9\n",
    "Write a Python program to sum all the items in a dictionary.\n",
    "# Below are the answer of question 9:"
   ]
  },
  {
   "cell_type": "code",
   "execution_count": 9,
   "metadata": {},
   "outputs": [
    {
     "name": "stdout",
     "output_type": "stream",
     "text": [
      "Result of Method - 1 :- 320\n"
     ]
    }
   ],
   "source": [
    "dic1 = {\"red\":155, \"green\":165}\n",
    "print(\"Result of Method - 1 :-\",sum(dic1.values()))"
   ]
  },
  {
   "cell_type": "markdown",
   "metadata": {},
   "source": [
    "# Question 10\n",
    "    Write a Python script to check whether a given key already exists in a dictionary. \n",
    "        d = {'foo': 100, 'bar': 200, 'baz': 300} \n",
    "# Below are the answer of question 10:"
   ]
  },
  {
   "cell_type": "code",
   "execution_count": 10,
   "metadata": {},
   "outputs": [
    {
     "name": "stdout",
     "output_type": "stream",
     "text": [
      "Input the key for check:- bar\n",
      "\n",
      "Default assigned dictionary is :-  {'foo': 100, 'bar': 200, 'baz': 300}\n",
      "\n",
      "Key is already exists in dictionary:\n"
     ]
    }
   ],
   "source": [
    "d = {'foo': 100, 'bar': 200, 'baz': 300}\n",
    "key = input(\"Input the key for check:- \")\n",
    "print(\"\\nDefault assigned dictionary is :- \",d)\n",
    "if key in d.keys():\n",
    "    print(\"\\nKey is already exists in dictionary:\")\n",
    "else:\n",
    "    print(\"\\nKey isn't present!\")"
   ]
  },
  {
   "cell_type": "markdown",
   "metadata": {},
   "source": [
    "# Question 11\n",
    "    What method call will delete the entry whose value is 200? \n",
    "        d = {'foo': 100, 'bar': 200, 'baz': 300} \n",
    "# Below are the answer of question 11:"
   ]
  },
  {
   "cell_type": "code",
   "execution_count": 11,
   "metadata": {},
   "outputs": [
    {
     "name": "stdout",
     "output_type": "stream",
     "text": [
      "\n",
      "Default assigned dictionary is :-  {'foo': 100, 'bar': 200, 'baz': 300}\n",
      "\n",
      "Rest detail of dictionery after deleting  bar is :- {'foo': 100, 'baz': 300}\n"
     ]
    }
   ],
   "source": [
    "d = {'foo': 100, 'bar': 200, 'baz': 300}\n",
    "print(\"\\nDefault assigned dictionary is :- \",d)\n",
    "del d['bar']\n",
    "print(\"\\nRest detail of dictionery after deleting \",key, \"is :-\",d)"
   ]
  },
  {
   "cell_type": "markdown",
   "metadata": {},
   "source": [
    "# Question 12\n",
    "    Write a Python program to check multiple keys exists in a dictionary. \n",
    "# Below are the answer of question 12:"
   ]
  },
  {
   "cell_type": "code",
   "execution_count": 12,
   "metadata": {},
   "outputs": [
    {
     "name": "stdout",
     "output_type": "stream",
     "text": [
      "All keys are present\n",
      "\n",
      "All keys are not present\n"
     ]
    }
   ],
   "source": [
    "dic1 = {1:\"red\", 2:\"green\", 3:\"yellow\", 4:\"blue\", 6:\"orange\", 8:\"black\"}\n",
    "key = {1,4}\n",
    "if(dic1.keys()) >= key:\n",
    "    print(\"All keys are present\")\n",
    "else:\n",
    "    print(\"All keys are not present\")\n",
    "    \n",
    "\n",
    "dic1 = {1:\"red\", 2:\"green\", 3:\"yellow\", 4:\"blue\", 6:\"orange\", 8:\"black\"}\n",
    "key = {1,7}\n",
    "if(dic1.keys()) >= key:\n",
    "    print(\"\\nAll keys are present\")\n",
    "else:\n",
    "    print(\"\\nAll keys are not present\")"
   ]
  }
 ],
 "metadata": {
  "kernelspec": {
   "display_name": "Python 3",
   "language": "python",
   "name": "python3"
  },
  "language_info": {
   "codemirror_mode": {
    "name": "ipython",
    "version": 3
   },
   "file_extension": ".py",
   "mimetype": "text/x-python",
   "name": "python",
   "nbconvert_exporter": "python",
   "pygments_lexer": "ipython3",
   "version": "3.8.3"
  }
 },
 "nbformat": 4,
 "nbformat_minor": 4
}
