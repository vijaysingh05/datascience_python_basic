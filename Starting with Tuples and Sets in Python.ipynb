{
 "cells": [
  {
   "cell_type": "markdown",
   "metadata": {},
   "source": [
    "# Python Assignment - 2 (Tuples and Sets)"
   ]
  },
  {
   "cell_type": "markdown",
   "metadata": {},
   "source": [
    "# Question 1\n",
    "\n",
    "    Write a Python program to add an item in a tuple.\n",
    "\n",
    "# Below are the answer of question 1:"
   ]
  },
  {
   "cell_type": "code",
   "execution_count": 1,
   "metadata": {},
   "outputs": [
    {
     "name": "stdout",
     "output_type": "stream",
     "text": [
      "Default Elements of Tuple is :- (1, 2, 3, 5, 8, 4)\n",
      "\n",
      "Elements of Tuple after adding one item using '+' operator is :- (1, 2, 3, 5, 8, 4, 9)\n",
      "\n",
      "Elements of Tuple post adding, uses list()/append() is :- (1, 2, 3, 5, 8, 4, 9, 10)\n"
     ]
    }
   ],
   "source": [
    "tup = (1, 2, 3, 5, 8, 4)                                                 # Creating a tuple\n",
    "print(\"Default Elements of Tuple is :-\", tup)                            # Printing created tuple\n",
    "\n",
    "#Method - 1 - using '+' operator to add items in list.\n",
    "tup = tup + (9,)                                                         # Using merge of tuples with the + operator\n",
    "print(\"\\nElements of Tuple after adding one item using '+' operator is :-\", tup)\n",
    "\n",
    "#Method - 2 - use different ways to add items in list.\n",
    "list1 = list(tup)                                                        # First we need to convert the tuple to list.\n",
    "list1.append(10)                                                         # Now we can add items in list using append() function.\n",
    "tup = tuple(list1)                                                       # After adding item in list we convert list in tuple.\n",
    "print(\"\\nElements of Tuple post adding, uses list()/append() is :-\", tup)# Printing tuple post item added n converted from list."
   ]
  },
  {
   "cell_type": "markdown",
   "metadata": {},
   "source": [
    "# Question 2\n",
    "\n",
    "    Write a Python program to reverse a tuple.\n",
    "\n",
    "# Below are the answer of question 2:"
   ]
  },
  {
   "cell_type": "code",
   "execution_count": 2,
   "metadata": {},
   "outputs": [
    {
     "name": "stdout",
     "output_type": "stream",
     "text": [
      "Default assigned Elements of Tuple is :- (1, 2, 3, 5, 8, 4)\n",
      "\n",
      "Reverse of elements of tuple are as   :- (4, 8, 5, 3, 2, 1)\n",
      "\n",
      "Default assigned Elements of Tuple is :- (1, 2, 3, 5, 8, 4)\n",
      "\n",
      "Reverse of elements of tuple are as   :- (4, 8, 5, 3, 2, 1)\n"
     ]
    }
   ],
   "source": [
    "#Method -1 - Using Index reverse[::-1]\n",
    "tup = (1, 2, 3, 5, 8, 4)                                                 # Creating a tuple\n",
    "print(\"Default assigned Elements of Tuple is :-\", tup)                   # Printing created tuple\n",
    "print(\"\\nReverse of elements of tuple are as   :-\", tup[::-1])                # Using Index reverse[::-1].\n",
    "\n",
    "#Method - 2 - Reverse the elements of tuple Reversed()\n",
    "tup = (1, 2, 3, 5, 8, 4)                                                 # Creating a tuple\n",
    "print(\"\\nDefault assigned Elements of Tuple is :-\", tup)                 # Printing created tuple\n",
    "tup1 = reversed(tup)                                                     # Reverting elements of tuple using Reverted().\n",
    "print(\"\\nReverse of elements of tuple are as   :-\", tuple(tup1))         # Printing reverted elements tuple"
   ]
  },
  {
   "cell_type": "markdown",
   "metadata": {},
   "source": [
    "# Question 3\n",
    "\n",
    "    Swap the following two tuples \n",
    "           tuple1 = (11, 22)\n",
    "           tuple2 = (99, 88)\n",
    "\n",
    "# Below are the answer of question 3:"
   ]
  },
  {
   "cell_type": "code",
   "execution_count": 3,
   "metadata": {},
   "outputs": [
    {
     "name": "stdout",
     "output_type": "stream",
     "text": [
      "Default Elements of Tuple1 and Tuple2 are :- (11, 22) (99, 88)\n",
      "Swapping of elements in same tuple are as :- (22, 11) (88, 99)\n",
      "\n",
      "Default Elements of Tuple1 and Tuple2 are :- (11, 22) (99, 88)\n",
      "Swapping of elements of 2 diff. tuples as :- (99, 88) (11, 22)\n"
     ]
    }
   ],
   "source": [
    "#Method  - 1 Swapping the element positining in same tuple.\n",
    "tuple1 = (11, 22)\n",
    "tuple2 = (99, 88)\n",
    "print(\"Default Elements of Tuple1 and Tuple2 are :-\", tuple1,tuple2)           # Printing created tuple\n",
    "tup1 = reversed(tuple1)                                                        # Swapping the element positioning in 1st tuple.\n",
    "tup2 = reversed(tuple2)                                                        # Swapping the element positioning in 2nd tuple.\n",
    "print(\"Swapping of elements in same tuple are as :-\", tuple(tup1), tuple(tup2))# Printing reverted elements tuple\n",
    "\n",
    "#Method  - 2 Swapping the values 2 tuples with each other.\n",
    "tuple1 = (11, 22)\n",
    "tuple2 = (99, 88)\n",
    "print(\"\\nDefault Elements of Tuple1 and Tuple2 are :-\", tuple1,tuple2)         # Printing created tuple\n",
    "tup1 = tuple1                                                                  # Storing value of 1st tuple in another new tuple\n",
    "tuple1 = tuple2                                                                # swapping the value from 2nd tuple to 1st tuple.\n",
    "tuple2 = tup1                                                                  # swapping the value from new tuple to 2st tuple.\n",
    "print(\"Swapping of elements of 2 diff. tuples as :-\", tuple(tuple1), tuple(tuple2))# Printing reverted elements tuple"
   ]
  },
  {
   "cell_type": "markdown",
   "metadata": {},
   "source": [
    "# Question 4\n",
    "\n",
    "    Modify the first item (22) of a list inside a following tuple to 222\n",
    "        tuple1 = (11, [22, 33], 44, 55)  \n",
    "\n",
    "# Below are the answer of question 4:"
   ]
  },
  {
   "cell_type": "code",
   "execution_count": 4,
   "metadata": {},
   "outputs": [
    {
     "name": "stdout",
     "output_type": "stream",
     "text": [
      "Element of tuple1 before changes are : (11, [22, 33], 44, 55)\n",
      "Element of tuple1 after  changes are : (11, [222, 33], 44, 55)\n"
     ]
    }
   ],
   "source": [
    "tuple1 = (11, [22, 33], 44, 55)                                         # Defining & assigning the values in a tuple.\n",
    "print(\"Element of tuple1 before changes are :\",tuple1)                  # Printing created tuple.\n",
    "lists = list(tuple1)                                                    # Converting the tuple in list.\n",
    "lists[1][0] = 222                                                       # Assigning the values of element[1][0] in list.\n",
    "tuple1 = tuple(lists)                                                   # Converting the list in tuple.\n",
    "print(\"Element of tuple1 after  changes are :\",tuple1)"
   ]
  },
  {
   "cell_type": "markdown",
   "metadata": {},
   "source": [
    "# Question 5\n",
    "\n",
    "    Write a Python program to unpack a tuple in several variables\n",
    "    \n",
    "    \n",
    "# Below are the answer of question 5:"
   ]
  },
  {
   "cell_type": "code",
   "execution_count": 5,
   "metadata": {},
   "outputs": [
    {
     "name": "stdout",
     "output_type": "stream",
     "text": [
      "(4, 8, 3) \n",
      "Addition of above values(tuple) is: 15\n",
      "\n",
      " DS 40000 6 Months\n"
     ]
    }
   ],
   "source": [
    "#Method - 1\n",
    "tuplex = 4, 8, 3                                                          # Create a tuple\n",
    "n1, n2, n3 = tuplex                                                       # Unpacking the values in a variable tuplex\n",
    "print(tuplex, \"\\nAddition of above values(tuple) is:\",n1 + n2 + n3)       # Adding the values of tuple tuplex\n",
    "\n",
    "#Method - 2\n",
    "tup = (\"DS\", 40000, \"6 Months\", 50)                                       # Create a tuple\n",
    "(course, fee, duration, strength) = tup                                   # Unpacking the values in a variable tup\n",
    "print(\"\\n\",course,fee,duration)                                           # Printing created tuple."
   ]
  },
  {
   "cell_type": "markdown",
   "metadata": {},
   "source": [
    "# Question 6\n",
    "\n",
    "    Write a Python program to add member(s) in an empty set    \n",
    "    \n",
    "# Below are the answer of question 6:"
   ]
  },
  {
   "cell_type": "code",
   "execution_count": 6,
   "metadata": {},
   "outputs": [
    {
     "name": "stdout",
     "output_type": "stream",
     "text": [
      "{'Male'}\n",
      "{'Male', 'Female', 'Others'}\n"
     ]
    }
   ],
   "source": [
    "gender = set()                       # Defining an emprty set() as gender\n",
    "gender.add(\"Male\")                   # Adding a single value in empty set() with add() function.\n",
    "print(gender)                        # Printing variable after added one element in set().\n",
    "gender.update([\"Female\",\"Others\"])   # Adding multiple values in set() using update() function.\n",
    "print(gender)                        # Printing variable after added multiple element in set()."
   ]
  },
  {
   "cell_type": "markdown",
   "metadata": {},
   "source": [
    "# Question 7\n",
    "\n",
    "    Write a Python program to create an intersection of sets    \n",
    "    \n",
    "# Below are the answer of question 7:"
   ]
  },
  {
   "cell_type": "code",
   "execution_count": 7,
   "metadata": {},
   "outputs": [
    {
     "name": "stdout",
     "output_type": "stream",
     "text": [
      "Result of Method - 1 is :- {50, 20}\n",
      "\n",
      "Result of Method - 2 is :-\n",
      "\n",
      "Common Values between Sec2 & Sec1 :- {2, 5}\n",
      "Common Values between Sec2 & Sec3 :-  {2}\n",
      "Common Values between Sec1 & Sec3 :-  {2, 3}\n",
      "Common Values between Sec3 & Sec1 & Sec2 :- {2}\n"
     ]
    }
   ],
   "source": [
    "# Method - 1 For Intersection \n",
    "Int_Sec1 = {10, 20, 50, 100}                   # Defining & assigning values in set veriable1.\n",
    "Int_Sec2 = {20,50,90,110,150}                  # Defining & assigning values in set veriable2.\n",
    "Int_Sec3 = Int_Sec1 & Int_Sec2                 # Checking the common value(Intersect) in both of valriables.\n",
    "print(\"Result of Method - 1 is :-\",Int_Sec3)   # Printing the intersect values said variables.\n",
    "\n",
    "# Method - 2 For Intersection using intersection() Function.\n",
    "print(\"\\nResult of Method - 2 is :-\\n\")\n",
    "Sec1 = {2, 3, 5, 4}                            # Defining & assigning values in set veriable1.\n",
    "Sec2 = {2, 5, 100}                             # Defining & assigning values in set veriable2.\n",
    "Sec3 = {2, 3, 8, 9, 10}                        # Defining & assigning values in set veriable3.\n",
    "print(\"Common Values between Sec2 & Sec1 :-\",Sec2.intersection(Sec1))         # Checking the Intersection in both of valriables.\n",
    "print(\"Common Values between Sec2 & Sec3 :- \",Sec2.intersection(Sec3))        # Checking the Intersection in both of valriables.\n",
    "print(\"Common Values between Sec1 & Sec3 :- \",Sec1.intersection(Sec3))        # Checking the Intersection in both of valriables.\n",
    "print(\"Common Values between Sec3 & Sec1 & Sec2 :-\",Sec3.intersection(Sec1,Sec2))\n",
    "                                                                              # Checking the Intersection in all of valriables."
   ]
  },
  {
   "cell_type": "markdown",
   "metadata": {},
   "source": [
    "# Question 8\n",
    "\n",
    "    Write a Python program to create a symmetric difference in sets.\n",
    "    \n",
    "# Below are the answer of question 8:"
   ]
  },
  {
   "cell_type": "code",
   "execution_count": 8,
   "metadata": {},
   "outputs": [
    {
     "name": "stdout",
     "output_type": "stream",
     "text": [
      "Symmetric Difference by Method - 1 is :- {10, 100, 150, 90, 110}\n",
      "\n",
      "Result by Method - 2 is :-\n",
      "Symmetric Difference in Sec2 & Sec1  {3, 100, 4}\n",
      "Symmetric Difference in Sec2 & Sec3  {3, 100, 5, 8, 9, 10}\n",
      "Symmetric Difference in Sec1 & Sec3  {4, 5, 8, 9, 10}\n"
     ]
    }
   ],
   "source": [
    "# Method - 1 For Intersection \n",
    "Int_Sec1 = {10, 20, 50, 100}                                        # Defining & assigning values in set veriable1.\n",
    "Int_Sec2 = {20,50,90,110,150}                                       # Defining & assigning values in set veriable2.\n",
    "Int_Sec3 = Int_Sec1 ^ Int_Sec2                                      # Checking the symmetric difference in both of valriables.\n",
    "print(\"Symmetric Difference by Method - 1 is :-\",Int_Sec3)          # Printing the symmetric differences in said variables.\n",
    "\n",
    "# Method - 2 For Intersection using intersection() Function. Note - symmetric_difference() takes exactly one argument only\n",
    "print(\"\\nResult by Method - 2 is :-\")\n",
    "Sec1 = {2, 3, 5, 4}                                                            # Defining & assigning values in set veriable1.\n",
    "Sec2 = {2, 5, 100}                                                             # Defining & assigning values in set veriable2.\n",
    "Sec3 = {2, 3, 8, 9, 10}                                                        # Defining & assigning values in set veriable3.\n",
    "print(\"Symmetric Difference in Sec2 & Sec1 \",Sec2.symmetric_difference(Sec1))\n",
    "                                                        # Checking & printing the symmetric difference in both of valriables.\n",
    "print(\"Symmetric Difference in Sec2 & Sec3 \",Sec2.symmetric_difference(Sec3))\n",
    "                                                        # Checking & printing the symmetric difference in both of valriables.\n",
    "print(\"Symmetric Difference in Sec1 & Sec3 \",Sec1.symmetric_difference(Sec3))\n",
    "                                                        # Checking & printing the symmetric difference in both of valriables."
   ]
  },
  {
   "cell_type": "markdown",
   "metadata": {},
   "source": [
    "# Question 9\n",
    "\n",
    "    Return a set of identical items from a given two Python set\n",
    "        set1 = [10, 20, 30, 40, 50] and set2 = [30, 40, 50, 60, 70]\n",
    "    \n",
    "# Below are the answer of question 9:"
   ]
  },
  {
   "cell_type": "code",
   "execution_count": 9,
   "metadata": {},
   "outputs": [
    {
     "name": "stdout",
     "output_type": "stream",
     "text": [
      "Values of set1 is :- {40, 10, 50, 20, 30}\n",
      "Values of set1 is :- {70, 40, 50, 60, 30}\n",
      "\n",
      "Return a set of identical items as per above :- {40, 50, 30}\n"
     ]
    }
   ],
   "source": [
    "set1 = {10, 20, 30, 40, 50}                 # Defining & assigning values in set veriable1 as per question.\n",
    "set2 = {30, 40, 50, 60, 70}                 # Defining & assigning values in set veriable2 as per question.\n",
    "print(\"Values of set1 is :-\",set1)          # Printing the values of set1 variables.\n",
    "print(\"Values of set1 is :-\",set2)          # Printing the values of set2 variables.\n",
    "\n",
    "print(\"\\nReturn a set of identical items as per above :-\",set1.intersection(set2))\n",
    "                                            # Checking the Intersection in both of valriables."
   ]
  },
  {
   "cell_type": "markdown",
   "metadata": {},
   "source": [
    "# Question 10\n",
    "\n",
    "    Remove 10, 20, 30 elements from a following set at once from set1 = {10, 20, 30, 40, 50} \n",
    "        \n",
    "# Below are the answer of question 10:"
   ]
  },
  {
   "cell_type": "code",
   "execution_count": 10,
   "metadata": {},
   "outputs": [
    {
     "name": "stdout",
     "output_type": "stream",
     "text": [
      "Assiegned Values of set1 is :- {40, 10, 50, 20, 30}\n",
      "\n",
      "Rest Values after Removing 10, 20, 30 from set1 :- {40, 50}\n"
     ]
    }
   ],
   "source": [
    "set1 = {10, 20, 30, 40, 50}                   # Defining & assigning values in set veriable1 as per question.\n",
    "print(\"Assiegned Values of set1 is :-\",set1)  # Printing the values of set1 variables.\n",
    "set1.difference_update({10, 20, 30})          # Removing the said values from variable set1 with difference_update() function. \n",
    "print(\"\\nRest Values after Removing 10, 20, 30 from set1 :-\",set1)# Printing the values of set1 variables after removing values."
   ]
  },
  {
   "cell_type": "markdown",
   "metadata": {},
   "source": [
    "# Question 11\n",
    "\n",
    "    Access value 20 from the following tuple \n",
    "        example = (\"Pooja\", [10, 20, 30], (25, 50, 15))\n",
    "        \n",
    "# Below are the answer of question 11:"
   ]
  },
  {
   "cell_type": "code",
   "execution_count": 11,
   "metadata": {},
   "outputs": [
    {
     "name": "stdout",
     "output_type": "stream",
     "text": [
      "Assiegned Values of variable example(tuple) is :- ('Pooja', [10, 20, 30], (25, 50, 15))\n",
      "\n",
      "Accessed Values at position [1][1] in tuple 'example' is :- 20\n"
     ]
    }
   ],
   "source": [
    "example = (\"Pooja\", [10, 20, 30], (25, 50, 15))             # Defining & assigning values in tuple 'example' as per question.\n",
    "print(\"Assiegned Values of variable example(tuple) is :-\",example)  # Printing the values tuple variable \"example\".\n",
    "print(\"\\nAccessed Values at position [1][1] in tuple 'example' is :-\",example[1][1])"
   ]
  },
  {
   "cell_type": "markdown",
   "metadata": {},
   "source": [
    "# Question 12\n",
    "\n",
    "    Count the number of occurrences of item 50 from a tuple \n",
    "        numbers = (50, 10, 60, 70, 50)\n",
    "        \n",
    "# Below are the answer of question 12:"
   ]
  },
  {
   "cell_type": "code",
   "execution_count": 12,
   "metadata": {},
   "outputs": [
    {
     "name": "stdout",
     "output_type": "stream",
     "text": [
      "Assiegned Values in tuple 'numbers' is :- (50, 10, 60, 70, 50)\n",
      "\n",
      "Number of occurrences of 50 in above is  2\n"
     ]
    }
   ],
   "source": [
    "numbers = (50, 10, 60, 70, 50)                              # Defining & assigning values in tuple 'numbers' as per question.\n",
    "print(\"Assiegned Values in tuple 'numbers' is :-\",numbers)  # Printing the values of 'numbers' variables.\n",
    "print(\"\\nNumber of occurrences of 50 in above is \", numbers.count(50))\n",
    "                                                # Printing the Count the number of occurrences of item 50 from a tuple 'number'."
   ]
  }
 ],
 "metadata": {
  "kernelspec": {
   "display_name": "Python 3",
   "language": "python",
   "name": "python3"
  },
  "language_info": {
   "codemirror_mode": {
    "name": "ipython",
    "version": 3
   },
   "file_extension": ".py",
   "mimetype": "text/x-python",
   "name": "python",
   "nbconvert_exporter": "python",
   "pygments_lexer": "ipython3",
   "version": "3.8.3"
  }
 },
 "nbformat": 4,
 "nbformat_minor": 4
}
