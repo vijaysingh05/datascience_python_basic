{
 "cells": [
  {
   "cell_type": "markdown",
   "metadata": {},
   "source": [
    "# Python Assignment - 1 (String)"
   ]
  },
  {
   "cell_type": "markdown",
   "metadata": {},
   "source": [
    "# Question 1\n",
    "\n",
    "Define different types of variables (integer, boolean, string, float, complex) and print their values and their types\n",
    "\n",
    "# Below are the answer of question 1:"
   ]
  },
  {
   "cell_type": "code",
   "execution_count": 1,
   "metadata": {},
   "outputs": [
    {
     "name": "stdout",
     "output_type": "stream",
     "text": [
      "10\n"
     ]
    },
    {
     "data": {
      "text/plain": [
       "int"
      ]
     },
     "execution_count": 1,
     "metadata": {},
     "output_type": "execute_result"
    }
   ],
   "source": [
    "\n",
    "#1. Defining different types of variables (integer, boolean, string, float, complex) and print their values and their types\n",
    "\n",
    "a=10           # Defining a as a Interger datatype variable and assigning value with 10\n",
    "print(a)       # Printing the value of variable a\n",
    "type(a)        # Printing the datatype of a"
   ]
  },
  {
   "cell_type": "code",
   "execution_count": 2,
   "metadata": {},
   "outputs": [
    {
     "name": "stdout",
     "output_type": "stream",
     "text": [
      "20\n"
     ]
    },
    {
     "data": {
      "text/plain": [
       "int"
      ]
     },
     "execution_count": 2,
     "metadata": {},
     "output_type": "execute_result"
    }
   ],
   "source": [
    "b=20        # Defining b as a Interger datatype variable and assigning value with 20 \n",
    "print(b)    # Printing the value of variable b \n",
    "type(b)     # Printing the datatype of b"
   ]
  },
  {
   "cell_type": "code",
   "execution_count": 3,
   "metadata": {},
   "outputs": [
    {
     "name": "stdout",
     "output_type": "stream",
     "text": [
      "30\n"
     ]
    },
    {
     "data": {
      "text/plain": [
       "int"
      ]
     },
     "execution_count": 3,
     "metadata": {},
     "output_type": "execute_result"
    }
   ],
   "source": [
    "c=30           # Defining c as an Interger datatype variable and assigning value with 30\n",
    "print(c)       # Printing the value of variable c\n",
    "type(c)        # Printing the datatype of c"
   ]
  },
  {
   "cell_type": "code",
   "execution_count": 4,
   "metadata": {},
   "outputs": [
    {
     "name": "stdout",
     "output_type": "stream",
     "text": [
      "False True False True True False True\n"
     ]
    }
   ],
   "source": [
    "#Getting the results using the Boolean Operators like ==, !=, >, <, >=, <=.\n",
    "\n",
    "a=10           # Defining a as an Interger datatype variable and assigning value with 10\n",
    "b=20           # Defining b as an Interger datatype variable and assigning value with 20\n",
    "c=30           # Defining c as an Interger datatype variable and assigning value with 30\n",
    "\n",
    "print(a == b, a != b, a >= b, b < c, c > a, b >= c, a == c-20 ) \n"
   ]
  },
  {
   "cell_type": "code",
   "execution_count": 5,
   "metadata": {},
   "outputs": [
    {
     "name": "stdout",
     "output_type": "stream",
     "text": [
      "Vijay\n",
      "Ajay\n",
      "Sanjay\n"
     ]
    },
    {
     "data": {
      "text/plain": [
       "str"
      ]
     },
     "execution_count": 5,
     "metadata": {},
     "output_type": "execute_result"
    }
   ],
   "source": [
    "text1 = 'Vijay'          # Defining text1 as a String datatype variable and assigning value with 'Vijay' using ''.\n",
    "print(text1)             # Printing the value of variable text1\n",
    "type(text1)              # Printing the datatype of text1\n",
    "\n",
    "text2 = \"Ajay\"           # Defining text1 as a String datatype variable and assigning value with \"Ajay\" using \"\".\n",
    "print(text2)             # Printing the value of variable text2\n",
    "type(text2)              # Printing the datatype of text2\n",
    "\n",
    "text3 = \"\"\"Sanjay\"\"\"     # Defining text1 as a String datatype variable and assigning value with \"\"\"Sanjay\"\"\" using \"\"\"\"\"\".\n",
    "print(text3)             # Printing the value of variable text3\n",
    "type(text3)              # Printing the datatype of text3"
   ]
  },
  {
   "cell_type": "code",
   "execution_count": 6,
   "metadata": {
    "scrolled": true
   },
   "outputs": [
    {
     "name": "stdout",
     "output_type": "stream",
     "text": [
      "2.5\n",
      "5.703\n"
     ]
    },
    {
     "data": {
      "text/plain": [
       "float"
      ]
     },
     "execution_count": 6,
     "metadata": {},
     "output_type": "execute_result"
    }
   ],
   "source": [
    "float1 = 2.500      # Defining float1 as a Interger datatype variable and assigning value with 2.500\n",
    "float2 = 5.703      # Defining float2 as a Interger datatype variable and assigning value with 5.703\n",
    "print(float1)       # Printing the value of variable float1\n",
    "print(float2)       # Printing the value of variable float2\n",
    "type(float1)        # Printing the datatype of float1"
   ]
  },
  {
   "cell_type": "code",
   "execution_count": 7,
   "metadata": {},
   "outputs": [
    {
     "name": "stdout",
     "output_type": "stream",
     "text": [
      "(6+8j)\n",
      "6.0\n",
      "8.0\n",
      "10.0\n"
     ]
    },
    {
     "data": {
      "text/plain": [
       "complex"
      ]
     },
     "execution_count": 7,
     "metadata": {},
     "output_type": "execute_result"
    }
   ],
   "source": [
    "x = 6 + 8j                                    # Defining x as a Complex datatype variable and assigning value with 6 + 8j\n",
    "print(x, x.real, x.imag, abs(x), sep=\"\\n\")    # Printing the value of variable x with seperator as \"next line\"\n",
    "type(x)                                       # Printing the datatype of x"
   ]
  },
  {
   "cell_type": "markdown",
   "metadata": {},
   "source": [
    "# Question 2\n",
    "\n",
    "In the above question convert float variable into integer type and integer variable into str type.\n",
    "\n",
    "# Below is the answer of question 2:"
   ]
  },
  {
   "cell_type": "code",
   "execution_count": 8,
   "metadata": {},
   "outputs": [
    {
     "name": "stdout",
     "output_type": "stream",
     "text": [
      "2\n",
      "5\n",
      "10\n",
      "20\n",
      "30\n"
     ]
    }
   ],
   "source": [
    "print(int(float1))   # Converting a float datatype variable (float1) into an integer datatype variable.\n",
    "print(int(float2))   # Converting a float datatype variable (float2) into an integer datatype variable.\n",
    "print(str(a))        # Converting an Interger datatype variable (a) into an string datatype variable.\n",
    "print(str(b))        # Converting an Interger datatype variable (b) into an string datatype variable.\n",
    "print(str(c))        # Converting an Interger datatype variable (c) into an string datatype variable.\n"
   ]
  },
  {
   "cell_type": "markdown",
   "metadata": {},
   "source": [
    "# Question 3\n",
    "\n",
    "What will you get converting “abc” into boolean ?\n",
    "\n",
    "# Below is the answer of question 3:"
   ]
  },
  {
   "cell_type": "code",
   "execution_count": 9,
   "metadata": {},
   "outputs": [
    {
     "name": "stdout",
     "output_type": "stream",
     "text": [
      "True\n"
     ]
    }
   ],
   "source": [
    "a=\"abc\"            # Defining a as a String datatype variable and assigning value with \"abc\".\n",
    "print(bool(a))     # Printing the value of variable a after converting a as boolean."
   ]
  },
  {
   "cell_type": "markdown",
   "metadata": {},
   "source": [
    " # Question 4\n",
    " \n",
    " Print the substring from index 2 to index 4 for any given string. For example (llo) from “Hello World”.\n",
    "\n",
    "# Below is the answer of question 4:"
   ]
  },
  {
   "cell_type": "code",
   "execution_count": 10,
   "metadata": {},
   "outputs": [
    {
     "name": "stdout",
     "output_type": "stream",
     "text": [
      "Hello World\n",
      "llo\n"
     ]
    },
    {
     "data": {
      "text/plain": [
       "'llo'"
      ]
     },
     "execution_count": 10,
     "metadata": {},
     "output_type": "execute_result"
    }
   ],
   "source": [
    "a = \"Hello World\"     # Defining a as String datatype variable and assigning value with \"Hello World\".\n",
    "print(a)              # Printing the value of variable a.\n",
    "print(a[2:5])         # Printing the substring from index 2 to index 4 for \"Hello World\" # Method :- 1\n",
    "a[2]+a[3]+a[4]        # Printing the substring from index 2 to index 4 for \"Hello World\" # Method :- 2"
   ]
  },
  {
   "cell_type": "markdown",
   "metadata": {},
   "source": [
    " # Question 5\n",
    " \n",
    " Write a program to check a substring in a given string. For example 'e' is present in the word 'Umbrella'\n",
    "\n",
    "# Below is the answer of question 5:"
   ]
  },
  {
   "cell_type": "code",
   "execution_count": 11,
   "metadata": {},
   "outputs": [
    {
     "data": {
      "text/plain": [
       "4"
      ]
     },
     "execution_count": 11,
     "metadata": {},
     "output_type": "execute_result"
    }
   ],
   "source": [
    "a = \"Umbrella\"      # Defining a as String datatype variable and assigning value with \"Umbrella\".\n",
    "a.count('e')       # Counting that how many times substring 'e' is available in string \"Umbrella\". Method :- 1\n",
    "a.count('e',0,8)   # Counting that how many times substring 'e' is available in string \"Umbrella\" within specific range. Method :- 2\n",
    "a.find('e')         # Checking the index location of substring 'e' in string \"Umbrella\"."
   ]
  },
  {
   "cell_type": "markdown",
   "metadata": {},
   "source": [
    " # Question 6\n",
    " \n",
    " Use the correct comparison operator to check if 5 is not equal to 10\n",
    "\n",
    "# Below is the answer of question 6:"
   ]
  },
  {
   "cell_type": "code",
   "execution_count": 12,
   "metadata": {},
   "outputs": [
    {
     "name": "stdout",
     "output_type": "stream",
     "text": [
      "True\n"
     ]
    }
   ],
   "source": [
    "a = 5            # Defining 'a' as integer datatype variable and assigning value = 5.\n",
    "b = 10           # Defining 'b' as integer datatype variable and assigning value = 10.\n",
    "print(a != b)    # Checking that a=5 is not equal to b=10 with th healp of comparison operator \"!=\"."
   ]
  },
  {
   "cell_type": "markdown",
   "metadata": {},
   "source": [
    " # Question 7\n",
    " \n",
    " Write a program to get a string from the user and sort the words of the string in alphabetical order\n",
    "\n",
    "# Below is the answer of question 7:"
   ]
  },
  {
   "cell_type": "code",
   "execution_count": 13,
   "metadata": {},
   "outputs": [
    {
     "name": "stdout",
     "output_type": "stream",
     "text": [
      "Enter a string value vijay\n",
      "aijvy\n"
     ]
    }
   ],
   "source": [
    "string1 = input(\"Enter a string value \")       # For taking input at runtime.\n",
    "lstr=sorted(string1)                           # Sorting the letters in assending order from input.\n",
    "string1 = \"\".join(lstr)                        # Joining the letters in assending order.\n",
    "print(string1)                                 # Printing the output."
   ]
  },
  {
   "cell_type": "markdown",
   "metadata": {},
   "source": [
    " # Question 8\n",
    " \n",
    " Join two words using special characters like ‘ – ‘ ,’#’\n",
    "\n",
    "# Below is the answer of question 8:"
   ]
  },
  {
   "cell_type": "code",
   "execution_count": 14,
   "metadata": {},
   "outputs": [
    {
     "name": "stdout",
     "output_type": "stream",
     "text": [
      "My Name is Vijay # Pal\n"
     ]
    }
   ],
   "source": [
    "a= \"Vijay\"                          # Defining and assigning the value in the 1st string.\n",
    "b= \"Pal\"                            # Defining and assigning the value in the 2st string.\n",
    "print(\"My Name is\", a,'#',b)        # Combining & printing the string 1 & string 2 including special character '#'."
   ]
  },
  {
   "cell_type": "markdown",
   "metadata": {},
   "source": [
    " # Question 9\n",
    " \n",
    " Find all occurrences of “INDIA” in a given string ignoring the case. \n",
    "          \n",
    "          input_str = \"Welcome to INDIA. india is awesome.\"\n",
    "\n",
    "# Below is the answer of question 9:"
   ]
  },
  {
   "cell_type": "code",
   "execution_count": 15,
   "metadata": {},
   "outputs": [
    {
     "name": "stdout",
     "output_type": "stream",
     "text": [
      "1\n"
     ]
    }
   ],
   "source": [
    "string1 = \"Welcome to INDIA. india is awesome.\"   # Defining and assigning the value in the 1st string as log text.\n",
    "string2 = string1.count('INDIA')                  # Counting the 'INDIA' in above assigned string.\n",
    "print (str(string2))                              # Printing the output(counted value from above assigned string)."
   ]
  },
  {
   "cell_type": "markdown",
   "metadata": {},
   "source": [
    " # Question 10\n",
    " \n",
    " Replace first two ‘l’ with ‘n’ in ‘Hello World’\n",
    "\n",
    "# Below is the answer of question 10:"
   ]
  },
  {
   "cell_type": "code",
   "execution_count": 16,
   "metadata": {},
   "outputs": [
    {
     "name": "stdout",
     "output_type": "stream",
     "text": [
      "Henno World\n"
     ]
    }
   ],
   "source": [
    "a = \"Hello World\"                 # Defining a as String datatype variable and assigning value with \"Hello World\".\n",
    "print(a.replace(\"l\", \"n\", 2))     # Printing the value of variable replace with 'n' for 1st two'l'  with replace function.\n"
   ]
  },
  {
   "cell_type": "markdown",
   "metadata": {},
   "source": [
    " # Question 11\n",
    " \n",
    "Write a program that takes your full name as input and displays the abbreviations of the first and middle names except the last name which is displayed as it is. For example, if your name is Robert Brett Roser, then the output should be R.B.Roser.\n",
    "\n",
    "# Below is the answer of question 11:"
   ]
  },
  {
   "cell_type": "code",
   "execution_count": 17,
   "metadata": {},
   "outputs": [
    {
     "name": "stdout",
     "output_type": "stream",
     "text": [
      "Enter 3 Words as Name Here :>>  Vijay pal singh\n",
      "V. P. Singh\n"
     ]
    }
   ],
   "source": [
    "string1 = input(\"Enter 3 Words as Name Here :>>  \")        # For taking input in 3 words as name at runtime.\n",
    "string2 = string1.title()                                  # Converting proper letter(1st letter in capital of every word).\n",
    "string2 = string2.split()                                  # Spliting the name\n",
    "string3 = string2[0][0]+\". \"+string2[1][0]+\". \"+string2[2] # Getting 1st letter of word 1 & 2 with '.' and complete last word.\n",
    "print(string3)                                             # Printing the output."
   ]
  },
  {
   "cell_type": "markdown",
   "metadata": {},
   "source": [
    " # Question 12\n",
    " \n",
    "Write a program to check if a given string is a Palindrome.\n",
    "\n",
    "      A palindrome reads the same from front and back e.g.- aba, ccaacc, mom, etc. \n",
    "\n",
    "# Below is the answer of question 12:"
   ]
  },
  {
   "cell_type": "code",
   "execution_count": 18,
   "metadata": {},
   "outputs": [
    {
     "name": "stdout",
     "output_type": "stream",
     "text": [
      "Enter the word to check Palindrome :>>  aba\n",
      "This is a Palindrome string >>'true'\n"
     ]
    }
   ],
   "source": [
    "string1 = input(\"Enter the word to check Palindrome :>>  \")  # For taking input the string at runtime.\n",
    "string2 = string1[::-1]                                      # storing the reverse value in another variable from input string.\n",
    "if (string1 == string2):                                     # Checking that 1st variable value = 2nd variable value with \n",
    "                                                             #'if else' statement\n",
    "    print(\"This is a Palindrome string >>'true'\")   # Printing the value if condition it true.\n",
    "else:\n",
    "    print(\"This is not a Palindrome string >>'false'\")  # Printing the value if condition it false.\n"
   ]
  }
 ],
 "metadata": {
  "kernelspec": {
   "display_name": "Python 3",
   "language": "python",
   "name": "python3"
  },
  "language_info": {
   "codemirror_mode": {
    "name": "ipython",
    "version": 3
   },
   "file_extension": ".py",
   "mimetype": "text/x-python",
   "name": "python",
   "nbconvert_exporter": "python",
   "pygments_lexer": "ipython3",
   "version": "3.8.3"
  }
 },
 "nbformat": 4,
 "nbformat_minor": 4
}
